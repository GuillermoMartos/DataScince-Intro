{
 "cells": [
  {
   "cell_type": "markdown",
   "metadata": {},
   "source": [
    "# Ejercicios sobre lo aprendido"
   ]
  },
  {
   "cell_type": "markdown",
   "metadata": {},
   "source": [
    "## Suban este notebook resuelto al drive con la nomenclatura nombre_apellido_TP_5"
   ]
  },
  {
   "cell_type": "markdown",
   "metadata": {},
   "source": [
    "#### EJERCICIO 1\n",
    "Debes utilizar numpy\n",
    "1. ingresa por teclado la cantidad filas\n",
    "2. ingresa por teclado la cantidad columnas\n",
    "3. crea un arreglo de numpy de dimension filas columnas con elementos de tipo float.\n",
    "4. rellena el array con 10.5\n",
    "5. imprime shape, tipo y el arreglo"
   ]
  },
  {
   "cell_type": "code",
   "execution_count": 1,
   "metadata": {},
   "outputs": [
    {
     "name": "stdout",
     "output_type": "stream",
     "text": [
      "ingrese número para cantidad de filas 3\n",
      "ingrese número para cantidad de columnas 2\n"
     ]
    }
   ],
   "source": [
    "#creamos las variables a ingresar y las convertimos en enteros para obtener filas y columnas. Importamos el módulo numpy.\n",
    "\n",
    "filas = input(\"ingrese número para cantidad de filas \")\n",
    "filas=int(filas)\n",
    "col=input(\"ingrese número para cantidad de columnas \")\n",
    "col=int(col)\n",
    "import numpy as np"
   ]
  },
  {
   "cell_type": "code",
   "execution_count": 2,
   "metadata": {},
   "outputs": [
    {
     "data": {
      "text/plain": [
       "numpy.float64"
      ]
     },
     "execution_count": 2,
     "metadata": {},
     "output_type": "execute_result"
    }
   ],
   "source": [
    "#creamos una matriz con los elementos randomizados tipo float por la cantidad de filas y columnas que ingresamos. Demostramos\n",
    "#que nuestros elementos en la matriz creada son del tipo float.\n",
    "\n",
    "meitrix=np.random.rand(filas,col)\n",
    "type(meitrix[1][1])\n"
   ]
  },
  {
   "cell_type": "code",
   "execution_count": 3,
   "metadata": {},
   "outputs": [
    {
     "name": "stdout",
     "output_type": "stream",
     "text": [
      "(4,)\n",
      "<class 'numpy.ndarray'>\n",
      "[ 0.69441456  0.28963313  0.09632518 10.5       ]\n"
     ]
    }
   ],
   "source": [
    "#aquí me ha fallado la interpretación, Iván. Por tanto, tomo la variable filas como la cantidad de elementos del vector que\n",
    "#creamos a partirde esa variable y le agrego finalmente el 10.5 para la consigna 4. \n",
    "\n",
    "ej4=np.array(np.random.rand(filas))\n",
    "ej4=np.append(ej4,[10.5])\n",
    "print(ej4.shape)\n",
    "print(type(ej4))\n",
    "print(ej4)"
   ]
  },
  {
   "cell_type": "markdown",
   "metadata": {},
   "source": [
    "#### EJERCICIO 2\n",
    "\n",
    "Debes utilizar numpy\n",
    "\n",
    "Ingrese al programa un numero entero 'n'. \n",
    "\n",
    "Crea un array de n elementos enteros consecutivos (de 0 a n).\n",
    "\n",
    "Reformatea el array a un array cuadrado (reshape)\n",
    "\n",
    "Imprima las dimensiones (ndim) , el tipo del array y el array "
   ]
  },
  {
   "cell_type": "code",
   "execution_count": 4,
   "metadata": {},
   "outputs": [
    {
     "name": "stdout",
     "output_type": "stream",
     "text": [
      "ingrese un entero para el nuevo array: 7\n"
     ]
    },
    {
     "data": {
      "text/plain": [
       "array([0, 1, 2, 3, 4, 5, 6, 7])"
      ]
     },
     "execution_count": 4,
     "metadata": {},
     "output_type": "execute_result"
    }
   ],
   "source": [
    "#cumplimos hasta la creación del arreglo desde 0 hasta la n indicada.\n",
    "\n",
    "elementos=input(\"ingrese un entero para el nuevo array: \")\n",
    "elementos=int(elementos)\n",
    "elementos=np.arange(elementos+1)\n",
    "elementos"
   ]
  },
  {
   "cell_type": "code",
   "execution_count": 5,
   "metadata": {},
   "outputs": [
    {
     "data": {
      "text/plain": [
       "array([[0, 1, 2, 3],\n",
       "       [4, 5, 6, 7],\n",
       "       [0, 0, 0, 0],\n",
       "       [0, 0, 0, 0]])"
      ]
     },
     "execution_count": 5,
     "metadata": {},
     "output_type": "execute_result"
    }
   ],
   "source": [
    "#importo el módulo math para tener raíz cuadrada, luego corro un ciclo while hasta que mi cantidad de elementos del array creado\n",
    "#sea posible de hacer raíz cuadrada entera, agregando un elemento por vuelta hasta que se cumpla la condición. Al poder hacerlo\n",
    "#significa que puedo ya hacer una matriz cuadrada y allí aplico el reshape.\n",
    "\n",
    "import math\n",
    "while math.sqrt(len(elementos))%2!=0:\n",
    "    elementos=np.append(elementos,[0])\n",
    "elementos.reshape(int(math.sqrt(len(elementos))),int(math.sqrt(len(elementos))))"
   ]
  },
  {
   "cell_type": "code",
   "execution_count": 6,
   "metadata": {},
   "outputs": [
    {
     "name": "stdout",
     "output_type": "stream",
     "text": [
      "dimensión: 1\n",
      "tipo: <class 'numpy.ndarray'>\n",
      "array: [0 1 2 3 4 5 6 7 0 0 0 0 0 0 0 0]\n"
     ]
    }
   ],
   "source": [
    "print(f\"dimensión: {elementos.ndim}\")\n",
    "print(f\"tipo: {type(elementos)}\")\n",
    "print(f\"array: {elementos}\")"
   ]
  },
  {
   "cell_type": "code",
   "execution_count": null,
   "metadata": {},
   "outputs": [],
   "source": []
  },
  {
   "cell_type": "markdown",
   "metadata": {},
   "source": [
    "#### EJERCICIO 3\n",
    "\n",
    "\n",
    "Debes utilizar numpy \n",
    "1. crear una matriz de 3x3 con numeros enteros aleatorios (entre 1 y 50)\n",
    "2. almacena en B la transpuesta de A\n",
    "3. almacena en C el producto de A*B y en D la suma de A+B\n",
    "4. imprime size de C y D\n",
    "5. imprime shape de C y D\n",
    "5. imprime C y D"
   ]
  },
  {
   "cell_type": "code",
   "execution_count": 7,
   "metadata": {},
   "outputs": [
    {
     "name": "stdout",
     "output_type": "stream",
     "text": [
      "[[21.  7. 26.]\n",
      " [12. 38. 15.]\n",
      " [33. 37. 13.]]\n"
     ]
    }
   ],
   "source": [
    "#creo una matriz 3x3 y con el módulo random recorro la matriz y lo cambio por un aleatorio del 1 al 50\n",
    "\n",
    "import random\n",
    "A=np.random.rand(3,3)\n",
    "for i in range (len(A)):\n",
    "    for j in range (len(A[i])):\n",
    "        A[i][j]=random.randint(1,50)\n",
    "print(A)"
   ]
  },
  {
   "cell_type": "code",
   "execution_count": 8,
   "metadata": {},
   "outputs": [
    {
     "name": "stdout",
     "output_type": "stream",
     "text": [
      "size de C: 9\n",
      "size de D: 9\n",
      "\n",
      "shape de C: (3, 3)\n",
      "shape de D: (3, 3)\n",
      "\n",
      "C:\n",
      "[[ 441.   84.  858.]\n",
      " [  84. 1444.  555.]\n",
      " [ 858.  555.  169.]]\n",
      "\n",
      "D:\n",
      "[[42. 19. 59.]\n",
      " [19. 76. 52.]\n",
      " [59. 52. 26.]]\n"
     ]
    }
   ],
   "source": [
    "#creamos B a partir de la transpuesta de A\n",
    "#creamos C por la multiplicación de A*B\n",
    "#creamos D por la suma de A+B\n",
    "#imprimimos lo pedido en consignas 4,5,6.\n",
    "\n",
    "B=A.transpose()\n",
    "C=A*B\n",
    "D=A+B\n",
    "print(f\"size de C: {C.size}\\nsize de D: {D.size}\\n\")\n",
    "print(f\"shape de C: {C.shape}\\nshape de D: {D.shape}\\n\")\n",
    "print(f\"C:\\n{C}\\n\")\n",
    "print(f\"D:\\n{D}\")\n"
   ]
  },
  {
   "cell_type": "markdown",
   "metadata": {},
   "source": [
    "## Suban este notebook resuelto al drive con la nomenclatura nombre_apellido_TP_5"
   ]
  }
 ],
 "metadata": {
  "kernelspec": {
   "display_name": "Python 3",
   "language": "python",
   "name": "python3"
  },
  "language_info": {
   "codemirror_mode": {
    "name": "ipython",
    "version": 3
   },
   "file_extension": ".py",
   "mimetype": "text/x-python",
   "name": "python",
   "nbconvert_exporter": "python",
   "pygments_lexer": "ipython3",
   "version": "3.8.3"
  }
 },
 "nbformat": 4,
 "nbformat_minor": 4
}
