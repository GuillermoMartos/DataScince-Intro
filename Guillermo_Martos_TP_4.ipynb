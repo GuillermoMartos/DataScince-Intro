{
 "cells": [
  {
   "cell_type": "markdown",
   "metadata": {},
   "source": [
    "# Ejercicios sobre lo aprendido"
   ]
  },
  {
   "cell_type": "markdown",
   "metadata": {},
   "source": [
    "## Suban este notebook resuelto al drive con la nomenclatura nombre_apellido_TP_4"
   ]
  },
  {
   "cell_type": "code",
   "execution_count": null,
   "metadata": {},
   "outputs": [],
   "source": [
    "# :)) oki"
   ]
  },
  {
   "cell_type": "markdown",
   "metadata": {},
   "source": [
    "#### Trabajaremos con el archivo 'covid19casos_limpio.csv'\n",
    "\n",
    "Para ello vamos a abrirlo usando el modulo csv y comenzaremos a explorar otros datos"
   ]
  },
  {
   "cell_type": "code",
   "execution_count": null,
   "metadata": {},
   "outputs": [],
   "source": [
    "#importo el módulo csv\n",
    "import csv"
   ]
  },
  {
   "cell_type": "code",
   "execution_count": null,
   "metadata": {},
   "outputs": [],
   "source": [
    "#leo y convierto en lista el txt con el método seguro de apertura with open\n",
    "with open ('covid19casos_limpio.csv') as file:\n",
    "    file_reader=csv.reader(file)\n",
    "    lista_limpia=list(file_reader)"
   ]
  },
  {
   "cell_type": "code",
   "execution_count": null,
   "metadata": {},
   "outputs": [],
   "source": [
    "#miro la lista\n",
    "lista_limpia"
   ]
  },
  {
   "cell_type": "code",
   "execution_count": null,
   "metadata": {},
   "outputs": [],
   "source": [
    "#noto que en mi lista de listas, hay una lista vacía entre cada lista con datos, así que tras muchos intentos, la reemplazo en \n",
    "#una nueva lista filtrada solo con las listas con datos\n",
    "nueva_lista=[]\n",
    "for i in range(len(lista_limpia)):\n",
    "    if i%2==0:\n",
    "        nueva_lista.append(lista_limpia[i])"
   ]
  },
  {
   "cell_type": "code",
   "execution_count": null,
   "metadata": {},
   "outputs": [],
   "source": [
    "#genero la variable títulos de la primera lista en mi lista de listas\n",
    "titulo=nueva_lista[0]\n",
    "titulo"
   ]
  },
  {
   "cell_type": "code",
   "execution_count": null,
   "metadata": {},
   "outputs": [],
   "source": [
    "#genero una lista para que actúe de índice en un diccionario por la n cantidad de elementos de mis títulos\n",
    "indice_titulo=[i for i in range(len(titulo))]\n",
    "indice_titulo"
   ]
  },
  {
   "cell_type": "code",
   "execution_count": null,
   "metadata": {},
   "outputs": [],
   "source": [
    "#creo mi diccionario\n",
    "dic={}\n",
    "for nombre,indice in zip (titulo, indice_titulo):\n",
    "    dic[nombre]=indice\n",
    "dic"
   ]
  },
  {
   "cell_type": "code",
   "execution_count": null,
   "metadata": {},
   "outputs": [],
   "source": [
    "#creo mi función para crear la lista de la columna que me interese, y la llamo y creo mi lista de la primer consigna, luego\n",
    "#importo Counter, chequeo las ocurrencias, vuelvo diccionario el Counter y ordeno en una lista sus values, como el orden es\n",
    "#ascendente, imprimo los valores con un ciclo for recorriendo negativamene -1, -2, -3... los 5 valores pedidos\n",
    "def crear_col(col):\n",
    "    global nueva_lista, dic\n",
    "    new_list=[]\n",
    "    for i in range(1,len(nueva_lista)):\n",
    "        new_list.append(nueva_lista[i][dic[col]])\n",
    "    return new_list\n",
    "\n",
    "prov_col=crear_col(\"provincia_residencia\")\n",
    "from collections import Counter\n",
    "conta_prov=dict(Counter(prov_col))\n",
    "orden_casos=list(sorted(zip(conta_prov.values(), conta_prov.keys())))\n",
    "print(\"las cinco provincias con más casos son\")\n",
    "for i in range(1,6):\n",
    "    print(orden_casos[-i])"
   ]
  },
  {
   "cell_type": "code",
   "execution_count": null,
   "metadata": {},
   "outputs": [],
   "source": []
  },
  {
   "cell_type": "code",
   "execution_count": null,
   "metadata": {},
   "outputs": [],
   "source": [
    "#ejercicio 2: creo la columna edad con mi función definida antes, creo la lista que va a contener mi dato y con el ciclo la \n",
    "#lleno con los datos buscados, obviando los \"nan\". Imprimo la longitud de la lista para obtener el total de casos +60 años.\n",
    "\n",
    "col_edad=crear_col(\"edad\")\n",
    "mayores=[]\n",
    "for i in range(len(col_edad)):\n",
    "    if col_edad[i]!='nan':\n",
    "        col_edad[i]=int(col_edad[i])\n",
    "        if col_edad[i]>60:           \n",
    "            mayores.append(col_edad[i])\n",
    "print(f\"La cantidad de casos +60 años es de {len(mayores)}\")"
   ]
  },
  {
   "cell_type": "code",
   "execution_count": null,
   "metadata": {
    "scrolled": true
   },
   "outputs": [],
   "source": [
    "#ejercicio 3: creo la lsita de la columna interesada, estandarizo con capitalize() y obtengo las ocurrencias de cada opción.\n",
    "col_finan=crear_col( 'origen_financiamiento')\n",
    "for i in range(len(col_finan)):\n",
    "    col_finan[i]=col_finan[i].capitalize()\n",
    "Counter(col_finan)"
   ]
  },
  {
   "cell_type": "code",
   "execution_count": null,
   "metadata": {},
   "outputs": [],
   "source": [
    "#ejercicio 4: creo la lsita de la columna interesada y obtengo las ocurrencias de cada opción.\n",
    "col_cuid=crear_col( 'cuidado_intensivo')\n",
    "Counter(col_cuid)"
   ]
  },
  {
   "cell_type": "markdown",
   "metadata": {},
   "source": [
    "Siguiendo la modalidad vista en clases, realizar las siguientes tareas:\n",
    "\n",
    "1. DADA LA COLUMNA 'provincia_residencia' = indicar cuales son las 5 provincias con mas casos y la cantidad de casos que tienen\n",
    "\n",
    "2. DADA LA COLUMNA 'edad' = indicar cantidad de personas mayores a 60 anos\n",
    "\n",
    "3. DADA LA COLUMNA 'origen_financiamiento' = estandarizar para tener datos consistentes y obtener cantidad de repeticiones\n",
    "\n",
    "4. DADA LA COLUMNA 'cuidado_intensivo' = obtener cantidad de repeticiones de cada opcion"
   ]
  },
  {
   "cell_type": "markdown",
   "metadata": {},
   "source": [
    "## Suban este notebook resuelto al drive con la nomenclatura nombre_apellido_TP_4"
   ]
  },
  {
   "cell_type": "code",
   "execution_count": null,
   "metadata": {},
   "outputs": [],
   "source": []
  },
  {
   "cell_type": "code",
   "execution_count": null,
   "metadata": {},
   "outputs": [],
   "source": []
  }
 ],
 "metadata": {
  "kernelspec": {
   "display_name": "Python 3",
   "language": "python",
   "name": "python3"
  },
  "language_info": {
   "codemirror_mode": {
    "name": "ipython",
    "version": 3
   },
   "file_extension": ".py",
   "mimetype": "text/x-python",
   "name": "python",
   "nbconvert_exporter": "python",
   "pygments_lexer": "ipython3",
   "version": "3.8.3"
  }
 },
 "nbformat": 4,
 "nbformat_minor": 4
}
