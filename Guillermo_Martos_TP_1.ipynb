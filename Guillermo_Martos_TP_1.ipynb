{
 "cells": [
  {
   "cell_type": "markdown",
   "metadata": {},
   "source": [
    "# Ejercicios de lo visto hasta el momento\n",
    "\n",
    "----\n",
    "\n",
    "### Suban este notebook resuelto al drive con la nomenclatura `nombre_apellido_TP_1`"
   ]
  },
  {
   "cell_type": "markdown",
   "metadata": {},
   "source": [
    "****"
   ]
  },
  {
   "cell_type": "markdown",
   "metadata": {},
   "source": [
    "1- A partir el string `Es hora de que actuemos con lo aprendido` obtener la palabra 'Oraculo' utilizando indexacion, operador de corte, concatenacion y metodos de strings."
   ]
  },
  {
   "cell_type": "code",
   "execution_count": 1,
   "metadata": {},
   "outputs": [
    {
     "name": "stdout",
     "output_type": "stream",
     "text": [
      "0    E\n",
      "1    s\n",
      "2     \n",
      "3    h\n",
      "4    o\n",
      "5    r\n",
      "6    a\n",
      "7     \n",
      "8    d\n",
      "9    e\n",
      "10     \n",
      "11    q\n",
      "12    u\n",
      "13    e\n",
      "14     \n",
      "15    a\n",
      "16    c\n",
      "17    t\n",
      "18    u\n",
      "19    e\n",
      "20    m\n",
      "21    o\n",
      "22    s\n",
      "23     \n",
      "24    c\n",
      "25    o\n",
      "26    n\n",
      "27     \n",
      "28    l\n",
      "29    o\n",
      "30     \n",
      "31    a\n",
      "32    p\n",
      "33    r\n",
      "34    e\n",
      "35    n\n",
      "36    d\n",
      "37    i\n",
      "38    d\n",
      "39    o\n"
     ]
    }
   ],
   "source": [
    "a= \"Es hora de que actuemos con lo aprendido\"\n",
    "d=0\n",
    "for carac in a:    \n",
    "    print(d, \"  \", a[d])\n",
    "    d=d+1"
   ]
  },
  {
   "cell_type": "code",
   "execution_count": 2,
   "metadata": {},
   "outputs": [
    {
     "name": "stdout",
     "output_type": "stream",
     "text": [
      "Oraculo\n"
     ]
    }
   ],
   "source": [
    "new = (a[4:7], a[16], a[18], a[28:30])   \n",
    "new=\"\".join(new)\n",
    "new=new.capitalize()\n",
    "print(new)"
   ]
  },
  {
   "cell_type": "markdown",
   "metadata": {},
   "source": [
    "2 - Dada la lista de listas `[[18, 0, 2],[3, 48, 5],[68, 7, 8]]`\n",
    "* Reemplazar el numero `8` por `480`\n",
    "* Reemplazar la lista `[18, 0, 2]` por `[0, 2, 18]`\n",
    "* Imprimir la lista resultante"
   ]
  },
  {
   "cell_type": "code",
   "execution_count": 3,
   "metadata": {},
   "outputs": [
    {
     "name": "stdout",
     "output_type": "stream",
     "text": [
      "[[0, 2, 18], [3, 48, 5], [68, 7, 480]]\n"
     ]
    }
   ],
   "source": [
    "list1=[[18, 0, 2],[3, 48, 5],[68, 7, 8]]\n",
    "list1[2][2]=480\n",
    "list1[0]=[0,2,18]\n",
    "print(list1)"
   ]
  },
  {
   "cell_type": "markdown",
   "metadata": {},
   "source": [
    "3 - Dado el diccionario `{'k1':{'k2':[1,2,3], 'k3':[[4,5,88],[6]]}}` extraer y concatenar los elementos necesarios para obtener la lista  `[1,2,3,4,5,6]`"
   ]
  },
  {
   "cell_type": "code",
   "execution_count": 4,
   "metadata": {},
   "outputs": [
    {
     "data": {
      "text/plain": [
       "[1, 2, 3, 4, 5, 6]"
      ]
     },
     "execution_count": 4,
     "metadata": {},
     "output_type": "execute_result"
    }
   ],
   "source": [
    "dic1={'k1':{'k2':[1,2,3], 'k3':[[4,5,88],[6]]}}\n",
    "dic2=[dic1[\"k1\"][\"k2\"][0]]+[dic1[\"k1\"][\"k2\"][1]]+[dic1[\"k1\"][\"k2\"][2]]+[dic1[\"k1\"][\"k3\"][0][0]]+[dic1[\"k1\"][\"k3\"][0][1]]+[dic1[\"k1\"][\"k3\"][1][0]]\n",
    "dic2"
   ]
  },
  {
   "cell_type": "markdown",
   "metadata": {},
   "source": [
    "4 - **Antes de correr las celdas piensen** cual va a ser el resultado de estas comparaciones  y luego vean si aciertan, vayan resolviendolo por partes como los vimos en clases para ver porque python llega a ese resultado."
   ]
  },
  {
   "cell_type": "code",
   "execution_count": 1,
   "metadata": {},
   "outputs": [
    {
     "name": "stdout",
     "output_type": "stream",
     "text": [
      "False\n"
     ]
    }
   ],
   "source": [
    "# True o False ?\n",
    "print( 5-2>3 and 2==2 or 5==1 and 5!=5 )"
   ]
  },
  {
   "cell_type": "code",
   "execution_count": 2,
   "metadata": {},
   "outputs": [
    {
     "name": "stdout",
     "output_type": "stream",
     "text": [
      "True\n"
     ]
    }
   ],
   "source": [
    "var1 = 5\n",
    "var2 = 2\n",
    "var3 = (var2 * var1) - var1\n",
    "\n",
    "# True o False ?\n",
    "print( var3==var1 and var1*var3!=var2*var3 or var2>var1)\n"
   ]
  },
  {
   "cell_type": "code",
   "execution_count": 3,
   "metadata": {},
   "outputs": [
    {
     "name": "stdout",
     "output_type": "stream",
     "text": [
      "True\n"
     ]
    }
   ],
   "source": [
    "# True o False ?\n",
    "print( not var3==var1 or not var2>var1)"
   ]
  },
  {
   "cell_type": "code",
   "execution_count": null,
   "metadata": {},
   "outputs": [],
   "source": []
  },
  {
   "cell_type": "markdown",
   "metadata": {},
   "source": [
    "### Suban este notebook resuelto al drive con la nomenclatura `nombre_apellido_TP_1`"
   ]
  },
  {
   "cell_type": "code",
   "execution_count": null,
   "metadata": {},
   "outputs": [],
   "source": []
  }
 ],
 "metadata": {
  "anaconda-cloud": {},
  "kernelspec": {
   "display_name": "Python 3",
   "language": "python",
   "name": "python3"
  },
  "language_info": {
   "codemirror_mode": {
    "name": "ipython",
    "version": 3
   },
   "file_extension": ".py",
   "mimetype": "text/x-python",
   "name": "python",
   "nbconvert_exporter": "python",
   "pygments_lexer": "ipython3",
   "version": "3.8.3"
  }
 },
 "nbformat": 4,
 "nbformat_minor": 1
}
