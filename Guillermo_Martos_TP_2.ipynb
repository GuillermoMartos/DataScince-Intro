{
 "cells": [
  {
   "cell_type": "markdown",
   "metadata": {
    "collapsed": true
   },
   "source": [
    "# Ejercicios sobre lo aprendido"
   ]
  },
  {
   "cell_type": "markdown",
   "metadata": {},
   "source": [
    "## Suban este notebook resuelto al drive con la nomenclatura nombre_apellido_TP_2"
   ]
  },
  {
   "cell_type": "markdown",
   "metadata": {},
   "source": [
    "_____\n",
    "**Usar <code>for</code>, .split(), e <code>if</code> para imprimir todas las palabras que empiecen con 's':**"
   ]
  },
  {
   "cell_type": "code",
   "execution_count": 1,
   "metadata": {},
   "outputs": [],
   "source": [
    "st = 'Solo vas a imprimir la palabras que simplemente empiecen con s'"
   ]
  },
  {
   "cell_type": "code",
   "execution_count": 1,
   "metadata": {},
   "outputs": [
    {
     "name": "stdout",
     "output_type": "stream",
     "text": [
      "Solo\n",
      "simplemente\n",
      "s\n"
     ]
    }
   ],
   "source": [
    "st = 'Solo vas a imprimir la palabras que simplemente empiecen con s'\n",
    "st=st.split()\n",
    "for carac in st:\n",
    "    if carac[0]==\"S\":\n",
    "        print(carac)\n",
    "    elif carac[0]==\"s\":\n",
    "        print(carac)"
   ]
  },
  {
   "cell_type": "markdown",
   "metadata": {},
   "source": [
    "____\n",
    "**Recorrer el string e imprimir las palabras que tengan una cantidad par de caracteres**"
   ]
  },
  {
   "cell_type": "code",
   "execution_count": 1,
   "metadata": {},
   "outputs": [],
   "source": [
    "st = 'Vamos a imprimir solo aquellas palabras con cant de letras pares'"
   ]
  },
  {
   "cell_type": "code",
   "execution_count": 2,
   "metadata": {},
   "outputs": [
    {
     "name": "stdout",
     "output_type": "stream",
     "text": [
      "imprimir\n",
      "solo\n",
      "aquellas\n",
      "palabras\n",
      "cant\n",
      "de\n",
      "letras\n"
     ]
    }
   ],
   "source": [
    "st = 'Vamos a imprimir solo aquellas palabras con cant de letras pares'\n",
    "st=st.split()\n",
    "for palabras in st:\n",
    "    if (len(palabras)%2==0):\n",
    "        print(palabras)"
   ]
  },
  {
   "cell_type": "markdown",
   "metadata": {},
   "source": [
    "\n",
    "**Escribir un programa que imprima los enteros del 1 al 100, pero para los multiplos de 3 va a imprimir \"Fizz\" en lugar del numero y para los multiplos de 5 va a imprimir \"Buzz\". Para aquellos numeros que son multiplos de 3 y 5 simultaneamente, vamos a imprimir \"FizzBuzz\".**"
   ]
  },
  {
   "cell_type": "code",
   "execution_count": 3,
   "metadata": {},
   "outputs": [
    {
     "name": "stdout",
     "output_type": "stream",
     "text": [
      "FizzBuzz\n",
      "1\n",
      "2\n",
      "Fizz\n",
      "4\n",
      "Buzz\n",
      "Fizz\n",
      "7\n",
      "8\n",
      "Fizz\n",
      "Buzz\n",
      "11\n",
      "Fizz\n",
      "13\n",
      "14\n",
      "FizzBuzz\n",
      "16\n",
      "17\n",
      "Fizz\n",
      "19\n",
      "Buzz\n",
      "Fizz\n",
      "22\n",
      "23\n",
      "Fizz\n",
      "Buzz\n",
      "26\n",
      "Fizz\n",
      "28\n",
      "29\n",
      "FizzBuzz\n",
      "31\n",
      "32\n",
      "Fizz\n",
      "34\n",
      "Buzz\n",
      "Fizz\n",
      "37\n",
      "38\n",
      "Fizz\n",
      "Buzz\n",
      "41\n",
      "Fizz\n",
      "43\n",
      "44\n",
      "FizzBuzz\n",
      "46\n",
      "47\n",
      "Fizz\n",
      "49\n",
      "Buzz\n",
      "Fizz\n",
      "52\n",
      "53\n",
      "Fizz\n",
      "Buzz\n",
      "56\n",
      "Fizz\n",
      "58\n",
      "59\n",
      "FizzBuzz\n",
      "61\n",
      "62\n",
      "Fizz\n",
      "64\n",
      "Buzz\n",
      "Fizz\n",
      "67\n",
      "68\n",
      "Fizz\n",
      "Buzz\n",
      "71\n",
      "Fizz\n",
      "73\n",
      "74\n",
      "FizzBuzz\n",
      "76\n",
      "77\n",
      "Fizz\n",
      "79\n",
      "Buzz\n",
      "Fizz\n",
      "82\n",
      "83\n",
      "Fizz\n",
      "Buzz\n",
      "86\n",
      "Fizz\n",
      "88\n",
      "89\n",
      "FizzBuzz\n",
      "91\n",
      "92\n",
      "Fizz\n",
      "94\n",
      "Buzz\n",
      "Fizz\n",
      "97\n",
      "98\n",
      "Fizz\n",
      "Buzz\n"
     ]
    }
   ],
   "source": [
    "for i in range (101):\n",
    "    \n",
    "    if (((i)%3==0) and ((i)%5==0)):\n",
    "        i=\"FizzBuzz\"\n",
    "        print(i)        \n",
    "    elif ((i)%3==0):\n",
    "        i=\"Fizz\"\n",
    "        print(i)\n",
    "    elif ((i)%5==0):\n",
    "        i=\"Buzz\"\n",
    "        print(i)\n",
    "    else:\n",
    "        print(i)"
   ]
  },
  {
   "cell_type": "code",
   "execution_count": null,
   "metadata": {},
   "outputs": [],
   "source": []
  },
  {
   "cell_type": "markdown",
   "metadata": {},
   "source": [
    "____"
   ]
  },
  {
   "cell_type": "markdown",
   "metadata": {},
   "source": [
    "**Supongamos que tenemos una lista con distintos datos de distintas personas, vamos a tener el nombre, apellido, provincia de origen y fecha de nacimiento.**\n",
    "\n",
    " 1. Visualizar los datos de la lista de manera ordenada.\n",
    " 2. Estandarizar los nombres, apellidos y provincias para que empiecen con mayuscula.\n",
    " 3. Calcular la edad de cada persona al dia de hoy y agregar esa edad a nuestro conjunto de datos.\n",
    " 4. Mostrar los datos de todas aquellas personas mayores a 55 años.\n",
    " 5. Mostrar los datos de todas aquellas personas que tienen un nombre que empieza con 'J'."
   ]
  },
  {
   "cell_type": "code",
   "execution_count": 2,
   "metadata": {},
   "outputs": [],
   "source": [
    "personas = [['NOMBRE', 'APELLIDO', 'PROVINCIA', \"NACIMIENTO\"],\n",
    " ['Joaquin', 'Gorina', 'Chubut', '1967'],\n",
    " ['jose', 'Olmedo', 'misiones', '1988'],\n",
    " ['Julian', 'sosa', 'misiones', '2005'],\n",
    " ['florencia', 'lopez', 'neuquen', '2000'],\n",
    " ['sol', 'sanchez', 'salta', '1997'],\n",
    " ['xiMena', 'asturiAS', 'chubut', '1999'],\n",
    " ['sol', 'sanchez', 'chubut', '1993'],\n",
    " ['manuel', 'Olmedo', 'chaco', '1980'],\n",
    " ['jaVIer', 'montoya', 'tucuman', '1969'],\n",
    " ['rosa', 'montoya', 'tucuman', '1927'],\n",
    " ['miguel', 'montoya', 'tucuman', '1934'],\n",
    " ['jose', 'olmos', 'salta', '1977']] "
   ]
  },
  {
   "cell_type": "code",
   "execution_count": 3,
   "metadata": {},
   "outputs": [
    {
     "name": "stdout",
     "output_type": "stream",
     "text": [
      " \n",
      " \n",
      " \n",
      " \n",
      " \n",
      " \n",
      " \n",
      " \n",
      " \n",
      " \n",
      " \n",
      " \n",
      " \n",
      "NOMBRE       APELLIDO     PROVINCIA    NACIMIENTO    \n",
      "Joaquin      Gorina       Chubut       1967          \n",
      "Jose         Olmedo       Misiones     1988          \n",
      "Julian       Sosa         Misiones     2005          \n",
      "Florencia    Lopez        Neuquen      2000          \n",
      "Sol          Sanchez      Salta        1997          \n",
      "Ximena       Asturias     Chubut       1999          \n",
      "Sol          Sanchez      Chubut       1993          \n",
      "Manuel       Olmedo       Chaco        1980          \n",
      "Javier       Montoya      Tucuman      1969          \n",
      "Rosa         Montoya      Tucuman      1927          \n",
      "Miguel       Montoya      Tucuman      1934          \n",
      "Jose         Olmos        Salta        1977         "
     ]
    }
   ],
   "source": [
    "#lista ordenada y estandarizada (1 y 2)\n",
    "personas = [['NOMBRE', 'APELLIDO', 'PROVINCIA', \"NACIMIENTO\"],\n",
    " ['Joaquin', 'Gorina', 'Chubut', '1967'],\n",
    " ['jose', 'Olmedo', 'misiones', '1988'],\n",
    " ['Julian', 'sosa', 'misiones', '2005'],\n",
    " ['florencia', 'lopez', 'neuquen', '2000'],\n",
    " ['sol', 'sanchez', 'salta', '1997'],\n",
    " ['xiMena', 'asturiAS', 'chubut', '1999'],\n",
    " ['sol', 'sanchez', 'chubut', '1993'],\n",
    " ['manuel', 'Olmedo', 'chaco', '1980'],\n",
    " ['jaVIer', 'montoya', 'tucuman', '1969'],\n",
    " ['rosa', 'montoya', 'tucuman', '1927'],\n",
    " ['miguel', 'montoya', 'tucuman', '1934'],\n",
    " ['jose', 'olmos', 'salta', '1977']] \n",
    "for i in range (1,len(personas)):\n",
    "    print(\" \")\n",
    "    for j in range (len(personas[i])):\n",
    "        personas[i][j]=personas[i][j].capitalize()\n",
    "for i in range (len(personas)):\n",
    "    print(\" \")\n",
    "    for j in range (len(personas[i])):\n",
    "        print(f\"{personas[i][j]:{12}}\", end=\" \")"
   ]
  },
  {
   "cell_type": "code",
   "execution_count": 11,
   "metadata": {
    "scrolled": true
   },
   "outputs": [
    {
     "data": {
      "text/plain": [
       "[['NOMBRE',\n",
       "  'APELLIDO',\n",
       "  'PROVINCIA',\n",
       "  'NACIMIENTO',\n",
       "  'Edad',\n",
       "  'Edad',\n",
       "  'Edad',\n",
       "  'Edad'],\n",
       " ['Joaquin', 'Gorina', 'Chubut', '1967', '53', 53],\n",
       " ['Jose', 'Olmedo', 'Misiones', '1988', '32', 32],\n",
       " ['Julian', 'Sosa', 'Misiones', '2005', '15', 15],\n",
       " ['Florencia', 'Lopez', 'Neuquen', '2000', '20', 20],\n",
       " ['Sol', 'Sanchez', 'Salta', '1997', '23', 23],\n",
       " ['Ximena', 'Asturias', 'Chubut', '1999', '21', 21],\n",
       " ['Sol', 'Sanchez', 'Chubut', '1993', '27', 27],\n",
       " ['Manuel', 'Olmedo', 'Chaco', '1980', '40', 40],\n",
       " ['Javier', 'Montoya', 'Tucuman', '1969', '51', 51],\n",
       " ['Rosa', 'Montoya', 'Tucuman', '1927', '93', 93],\n",
       " ['Miguel', 'Montoya', 'Tucuman', '1934', '86', 86],\n",
       " ['Jose', 'Olmos', 'Salta', '1977', '43', 43]]"
      ]
     },
     "execution_count": 11,
     "metadata": {},
     "output_type": "execute_result"
    }
   ],
   "source": [
    "# ejercicios 3: agregamos la columna Edad en la primera lista que contiene los elementos de la fila  del encabezado, luego recorremos las\n",
    "# listas desde el elemento 1 para cambiar el año de nacimiento de cada lista a type int y por último sumamos a cada lista la\n",
    "# edad restando por el año corriente. Lo único, que al agregarlo con un ciclo for, se nos agregaba 4 veces (por cada elemento)\n",
    "# que era recorrido por lista (4 veces), así que hicimos un bache con un condicional if para que sólo agregue el nuevo elemento\n",
    "# de la edad cuando la longitud de la lista sea de 4 elementos. Se entiende? Creo que lo mejor sería comprender bien la orden de\n",
    "# iteración y sólo pasar 1 vez por lista y sumar 1 sola vez la edad, pero no me salió y lo tapé con el condicional :3 Supongo\n",
    "# que es posible de hacer sin el condicional y solo mediante indicar que recorra las listas 1 sola vez. Intenté algunas veces\n",
    "# pero finalmente no me salió y opté por este método para resolución de la consigna. Al final tuve que volver a convertir el año\n",
    "# y la edad en string para poder usar el .capitalize()\n",
    "\n",
    "\n",
    "personas[0].append(\"Edad\")\n",
    "for i in range (1,len(personas)):\n",
    "    for listas in range(len(personas[i])):\n",
    "        if ((len(personas[i]))==4):\n",
    "            (personas[i][3])= int (personas[i][3])\n",
    "            personas[i].append(2020-personas[i][3])\n",
    "            personas[i][4]=str(personas[i][4])\n",
    "            personas[i][3]=str(personas[i][3])\n",
    "personas"
   ]
  },
  {
   "cell_type": "code",
   "execution_count": 12,
   "metadata": {},
   "outputs": [
    {
     "data": {
      "text/plain": [
       "[['NOMBRE',\n",
       "  'APELLIDO',\n",
       "  'PROVINCIA',\n",
       "  'NACIMIENTO',\n",
       "  'Edad',\n",
       "  'Edad',\n",
       "  'Edad',\n",
       "  'Edad',\n",
       "  'Edad'],\n",
       " ['Joaquin', 'Gorina', 'Chubut', '1967', '53', 53, 53],\n",
       " ['Jose', 'Olmedo', 'Misiones', '1988', '32', 32, 32],\n",
       " ['Julian', 'Sosa', 'Misiones', '2005', '15', 15, 15],\n",
       " ['Florencia', 'Lopez', 'Neuquen', '2000', '20', 20, 20],\n",
       " ['Sol', 'Sanchez', 'Salta', '1997', '23', 23, 23],\n",
       " ['Ximena', 'Asturias', 'Chubut', '1999', '21', 21, 21],\n",
       " ['Sol', 'Sanchez', 'Chubut', '1993', '27', 27, 27],\n",
       " ['Manuel', 'Olmedo', 'Chaco', '1980', '40', 40, 40],\n",
       " ['Javier', 'Montoya', 'Tucuman', '1969', '51', 51, 51],\n",
       " ['Rosa', 'Montoya', 'Tucuman', '1927', '93', 93, 93],\n",
       " ['Miguel', 'Montoya', 'Tucuman', '1934', '86', 86, 86],\n",
       " ['Jose', 'Olmos', 'Salta', '1977', '43', 43, 43]]"
      ]
     },
     "execution_count": 12,
     "metadata": {},
     "output_type": "execute_result"
    }
   ],
   "source": [
    "# ejercicio 3 PD: creo que era simplemente poner \"in range (1)\" en el segundo for!\n",
    "\n",
    "personas[0].append(\"Edad\")\n",
    "for i in range (1,len(personas)):\n",
    "    for listas in range(1):\n",
    "        personas[i][3]= int (personas[i][3])\n",
    "        personas[i].append(2020-personas[i][3])\n",
    "        personas[i][4]=str(personas[i][4])\n",
    "        personas[i][3]=str(personas[i][3])\n",
    "personas"
   ]
  },
  {
   "cell_type": "code",
   "execution_count": 9,
   "metadata": {},
   "outputs": [
    {
     "name": "stdout",
     "output_type": "stream",
     "text": [
      "['Rosa', 'Montoya', 'Tucuman', 1927, 93]\n",
      "['Miguel', 'Montoya', 'Tucuman', 1934, 86]\n"
     ]
    }
   ],
   "source": [
    "# ejercicio 4: se toman solamente las filas/listas de personas mayores a 55 años\n",
    "\n",
    "for i in range (1,len(personas)):\n",
    "    if(personas[i][4])>=55:\n",
    "        print(personas[i])"
   ]
  },
  {
   "cell_type": "code",
   "execution_count": 13,
   "metadata": {},
   "outputs": [
    {
     "name": "stdout",
     "output_type": "stream",
     "text": [
      "['Joaquin', 'Gorina', 'Chubut', '1967', '53', 53, 53]\n",
      "['Jose', 'Olmedo', 'Misiones', '1988', '32', 32, 32]\n",
      "['Julian', 'Sosa', 'Misiones', '2005', '15', 15, 15]\n",
      "['Javier', 'Montoya', 'Tucuman', '1969', '51', 51, 51]\n",
      "['Jose', 'Olmos', 'Salta', '1977', '43', 43, 43]\n"
     ]
    }
   ],
   "source": [
    "#ejercicio 5: tomamos la primera letra de cada fila/lista de personas que comiencen con J para imprimir su fila completa\n",
    "\n",
    "for i in range (1,len(personas)):\n",
    "    for j in range (1):\n",
    "        if(personas[i][0][0])==\"J\":\n",
    "            print(personas[i])"
   ]
  },
  {
   "cell_type": "code",
   "execution_count": null,
   "metadata": {},
   "outputs": [],
   "source": []
  }
 ],
 "metadata": {
  "kernelspec": {
   "display_name": "Python 3",
   "language": "python",
   "name": "python3"
  }
 },
 "nbformat": 4,
 "nbformat_minor": 1
}
