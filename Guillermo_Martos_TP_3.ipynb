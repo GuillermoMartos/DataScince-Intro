{
 "cells": [
  {
   "cell_type": "markdown",
   "metadata": {},
   "source": [
    "# Ejercicios sobre lo aprendido"
   ]
  },
  {
   "cell_type": "markdown",
   "metadata": {},
   "source": [
    "## Suban este notebook resuelto al drive con la nomenclatura nombre_apellido_TP_3"
   ]
  },
  {
   "cell_type": "code",
   "execution_count": 1,
   "metadata": {},
   "outputs": [],
   "source": [
    "# Oki :)"
   ]
  },
  {
   "cell_type": "markdown",
   "metadata": {},
   "source": [
    "## Funciones (def)"
   ]
  },
  {
   "cell_type": "markdown",
   "metadata": {},
   "source": [
    "Crear una funcion llamada `sumador` que reciba como parametro una lista de listas de numeros, dicha funcion debera transformar los elementos de la matriz a numeros a enteros y luego tiene que devolvernos una tupla con 2 elementos:\n",
    " 1. una lista con la suma de cada fila como elementos\n",
    " 2. la suma de todos los elementos"
   ]
  },
  {
   "cell_type": "code",
   "execution_count": 2,
   "metadata": {},
   "outputs": [],
   "source": [
    "numeros = [[23.4,12.45,13.56],\n",
    "          [223.4,1332.445,1334.56,223.4,1332.445],\n",
    "          [2343.4,1542.45,1543.56],\n",
    "         [2893.4,112.45,123.56,2333.4,1672.45,1883.56]]"
   ]
  },
  {
   "cell_type": "code",
   "execution_count": 3,
   "metadata": {},
   "outputs": [
    {
     "name": "stdout",
     "output_type": "stream",
     "text": [
      "([49.41, 4446.25, 5429.41, 9018.82], 18943.89)\n"
     ]
    }
   ],
   "source": [
    "def sumador(lista_d_lista):\n",
    "    filas_tot=[]\n",
    "    for i in range (len(lista_d_lista)):\n",
    "        filas_tot.append(sum(lista_d_lista[i]))\n",
    "    grand_tot=sum(filas_tot)\n",
    "    tupla_tarea=(filas_tot,grand_tot)\n",
    "    print(tupla_tarea)\n",
    "sumador(numeros)"
   ]
  },
  {
   "cell_type": "markdown",
   "metadata": {},
   "source": [
    "Vamos abordar el ejercicio del tp_2 pero ahora con el uso de funciones, veamos como cambia el orden y la legibilidad del codigo con el uso de funciones."
   ]
  },
  {
   "cell_type": "markdown",
   "metadata": {},
   "source": [
    "**Supongamos que tenemos una lista con distintos datos de distintas personas, vamos a tener el nombre, apellido, provincia de origen y fecha de nacimiento.**\n",
    "\n",
    " 1. Crear una funcion llamada **`visualizar`** que tenga como parametro una lista y muestre los datos de la misma de manera ordenada.\n",
    " 2. Crear una funcion llamada **`estandarizar`** que tenga como parametro una lista y se va a encargar de Estandarizar los nombres, apellidos y provincias para que empiecen con mayuscula.\n",
    " 3. Crear una funcion llamada **`calculo_edad`** que tenga como parametro una lista y va a Calcular la edad de cada persona al dia de hoy y agregar esa edad a nuestro conjunto de datos.\n",
    " 4. Crear una funcion llamada **`gente_mayor`** que tenga como parametro una lista y va a **devolver otra lista** con el encabezado y los datos de todas aquellas personas mayores a 55 años.\n",
    " 5. Crear una funcion llamada **`los_J`** que tenga como parametro una lista y va a **devolver otra lista** con el encabezado y con los datos de todas aquellas personas que tienen  nombre o apellido que empieza con 'J'."
   ]
  },
  {
   "cell_type": "code",
   "execution_count": 4,
   "metadata": {},
   "outputs": [],
   "source": [
    "personas = [['NOMBRE', 'APELLIDO', 'PROVINCIA', \"NACIMIENTO\"],\n",
    " ['Joaquin', 'Gorina', 'Chubut', '1967'],\n",
    " ['jose', 'Olmedo', 'misiones', '1988'],\n",
    " ['Julian', 'sosa', 'misiones', '2005'],\n",
    " ['florencia', 'lopez', 'neuquen', '2000'],\n",
    " ['sol', 'jerva', 'salta', '1997'],\n",
    " ['xiMena', 'asturiAS', 'chubut', '1999'],\n",
    " ['sol', 'sanchez', 'chubut', '1993'],\n",
    " ['manuel', 'joaquin', 'chaco', '1980'],\n",
    " ['jaVIer', 'montoya', 'tucuman', '1969'],\n",
    " ['rosa', 'montoya', 'tucuman', '1927'],\n",
    " ['miguel', 'montoya', 'tucuman', '1934'],\n",
    " ['jose', 'olmos', 'salta', '1977']] "
   ]
  },
  {
   "cell_type": "markdown",
   "metadata": {},
   "source": [
    "Una vez definidas las funciones llamarlas en este orden todas en la misma celda:\n",
    "\n",
    "**Nota:** ojo con las funciones que devuelven elementos, no se olviden de asignarlos a variables para poder utilizarlos para la visualizacion"
   ]
  },
  {
   "cell_type": "code",
   "execution_count": 5,
   "metadata": {},
   "outputs": [
    {
     "name": "stdout",
     "output_type": "stream",
     "text": [
      "  \n",
      "NOMBRE       APELLIDO     PROVINCIA    NACIMIENTO     \n",
      "Joaquin      Gorina       Chubut       1967           \n",
      "jose         Olmedo       misiones     1988           \n",
      "Julian       sosa         misiones     2005           \n",
      "florencia    lopez        neuquen      2000           \n",
      "sol          jerva        salta        1997           \n",
      "xiMena       asturiAS     chubut       1999           \n",
      "sol          sanchez      chubut       1993           \n",
      "manuel       joaquin      chaco        1980           \n",
      "jaVIer       montoya      tucuman      1969           \n",
      "rosa         montoya      tucuman      1927           \n",
      "miguel       montoya      tucuman      1934           \n",
      "jose         olmos        salta        1977           \n",
      "Nombre       Apellido     Provincia    Nacimiento     \n",
      "Joaquin      Gorina       Chubut       1967           \n",
      "Jose         Olmedo       Misiones     1988           \n",
      "Julian       Sosa         Misiones     2005           \n",
      "Florencia    Lopez        Neuquen      2000           \n",
      "Sol          Jerva        Salta        1997           \n",
      "Ximena       Asturias     Chubut       1999           \n",
      "Sol          Sanchez      Chubut       1993           \n",
      "Manuel       Joaquin      Chaco        1980           \n",
      "Javier       Montoya      Tucuman      1969           \n",
      "Rosa         Montoya      Tucuman      1927           \n",
      "Miguel       Montoya      Tucuman      1934           \n",
      "Jose         Olmos        Salta        1977           \n",
      "Nombre       Apellido     Provincia    Nacimiento   EDAD           \n",
      "Joaquin      Gorina       Chubut               1967           53   \n",
      "Jose         Olmedo       Misiones             1988           32   \n",
      "Julian       Sosa         Misiones             2005           15   \n",
      "Florencia    Lopez        Neuquen              2000           20   \n",
      "Sol          Jerva        Salta                1997           23   \n",
      "Ximena       Asturias     Chubut               1999           21   \n",
      "Sol          Sanchez      Chubut               1993           27   \n",
      "Manuel       Joaquin      Chaco                1980           40   \n",
      "Javier       Montoya      Tucuman              1969           51   \n",
      "Rosa         Montoya      Tucuman              1927           93   \n",
      "Miguel       Montoya      Tucuman              1934           86   \n",
      "Jose         Olmos        Salta                1977           43   \n",
      "Nombre       Apellido     Provincia    Nacimiento   EDAD           \n",
      "Rosa         Montoya      Tucuman              1927           93   \n",
      "Miguel       Montoya      Tucuman              1934           86   \n",
      "Nombre       Apellido     Provincia    Nacimiento   EDAD           \n",
      "Joaquin      Gorina       Chubut               1967           53   \n",
      "Jose         Olmedo       Misiones             1988           32   \n",
      "Julian       Sosa         Misiones             2005           15   \n",
      "Sol          Jerva        Salta                1997           23   \n",
      "Manuel       Joaquin      Chaco                1980           40   \n",
      "Javier       Montoya      Tucuman              1969           51   \n",
      "Jose         Olmos        Salta                1977           43 "
     ]
    }
   ],
   "source": [
    "#visualizar\n",
    "def visualizar(lista):\n",
    "    for i in range (len(lista)):\n",
    "        print (\"  \")\n",
    "        for j in range(len(lista[i])):\n",
    "            print(f\"{lista[i][j]:{12}}\", end=\" \")\n",
    "visualizar(personas)\n",
    "\n",
    "#estandarizar\n",
    "#visualizar\n",
    "def estandarizar(lista):\n",
    "    for i in range (len(lista)):\n",
    "        for j in range(len(lista[i])):\n",
    "            lista[i][j]=lista[i][j].capitalize()\n",
    "estandarizar(personas)\n",
    "visualizar(personas)\n",
    "\n",
    "#calculo_edad\n",
    "#visualizar\n",
    "def calculo_edad(lista):\n",
    "        lista[0].append(\"EDAD\")\n",
    "        for i in range(1,len(lista)):\n",
    "            lista[i][3]=int(lista[i][3])\n",
    "            lista[i].append(2020 - lista[i][3])\n",
    "calculo_edad(personas)\n",
    "visualizar(personas)\n",
    "            \n",
    "#gente_mayor\n",
    "#visualizar (a la gente mayor)\n",
    "def gente_mayor(lista):\n",
    "    lista_elder=[]\n",
    "    lista_elder.append(lista[0])\n",
    "    for i in range(1,len(lista)):\n",
    "        lista[i][4]=int(lista[i][4])\n",
    "        if (lista[i][4]>55):\n",
    "            lista_elder.append(lista[i])\n",
    "    return lista_elder\n",
    "visualizar(gente_mayor(personas))\n",
    "\n",
    "#los_J\n",
    "#visualizar (a los j)\n",
    "def los_J(lista):\n",
    "    lista_j=[]\n",
    "    lista_j.append(lista[0])\n",
    "    for i in range(1,len(lista)):\n",
    "        for j in range(len(lista[i])):\n",
    "            if (lista[i][0][0].upper()==\"J\"):\n",
    "                lista_j.append(lista[i])\n",
    "                break\n",
    "            elif (lista[i][1][0].upper()==\"J\"):\n",
    "                lista_j.append(lista[i])\n",
    "                break\n",
    "    return lista_j\n",
    "visualizar(los_J(personas))"
   ]
  },
  {
   "cell_type": "code",
   "execution_count": null,
   "metadata": {},
   "outputs": [],
   "source": []
  },
  {
   "cell_type": "code",
   "execution_count": null,
   "metadata": {},
   "outputs": [],
   "source": []
  },
  {
   "cell_type": "markdown",
   "metadata": {},
   "source": [
    "## Funciones (lambda)"
   ]
  },
  {
   "cell_type": "markdown",
   "metadata": {},
   "source": [
    "a- Crear las funciones lambdas y mapear lo pedido a la lista\n",
    "\n",
    "1. Sumarle 15 a cada numero\n",
    "2. Elevar el numero al cuadrado y luego restarle 100\n",
    "3. Calcular la potencia n del numero, siendo n el resto de dividirlo por 5"
   ]
  },
  {
   "cell_type": "code",
   "execution_count": 6,
   "metadata": {},
   "outputs": [],
   "source": [
    "lista = [\"14\",12, \"23\",4,4,3,'7']"
   ]
  },
  {
   "cell_type": "code",
   "execution_count": 7,
   "metadata": {},
   "outputs": [
    {
     "data": {
      "text/plain": [
       "[29, 27, 38, 19, 19, 18, 22]"
      ]
     },
     "execution_count": 7,
     "metadata": {},
     "output_type": "execute_result"
    }
   ],
   "source": [
    "#Iván, con este me partí la cabeza para intentar meter en la misma sentencia un filter (probé mucho con filter(int, lista) con\n",
    "#varias sintaxis). Claramente no pude, así que convertí todos los str a int, aunque el ejercicio tal vez pedía justamente tomar\n",
    "#sólo los int de la lista...\n",
    "\n",
    "lista=list(map(lambda num:int(num), lista))\n",
    "list(map(lambda num:num+15,lista))"
   ]
  },
  {
   "cell_type": "code",
   "execution_count": 8,
   "metadata": {},
   "outputs": [
    {
     "data": {
      "text/plain": [
       "[96, 44, 429, -84, -84, -91, -51]"
      ]
     },
     "execution_count": 8,
     "metadata": {},
     "output_type": "execute_result"
    }
   ],
   "source": [
    "list(map(lambda num:num**2-100, lista))"
   ]
  },
  {
   "cell_type": "code",
   "execution_count": 9,
   "metadata": {},
   "outputs": [
    {
     "data": {
      "text/plain": [
       "[38416, 144, 12167, 256, 256, 27, 49]"
      ]
     },
     "execution_count": 9,
     "metadata": {},
     "output_type": "execute_result"
    }
   ],
   "source": [
    "list(map(lambda num:num**(num%5), lista))"
   ]
  },
  {
   "cell_type": "markdown",
   "metadata": {},
   "source": [
    "b- Crear las funciones lambdas y filtrar la lista\n",
    "\n",
    "1. Solo las palabras con 5 caracteres\n",
    "2. Solo las palabras que comiencen con C\n",
    "3. Solo las palabras que no contienen numeros (busquen metodos de strings)"
   ]
  },
  {
   "cell_type": "code",
   "execution_count": 10,
   "metadata": {},
   "outputs": [],
   "source": [
    "lista = \"Hola perro 3saltos cabeza codo cuerty78 90bajo_cero gan\".split()"
   ]
  },
  {
   "cell_type": "code",
   "execution_count": 11,
   "metadata": {},
   "outputs": [
    {
     "data": {
      "text/plain": [
       "['perro']"
      ]
     },
     "execution_count": 11,
     "metadata": {},
     "output_type": "execute_result"
    }
   ],
   "source": [
    "#1\n",
    "list(filter(lambda palabra:len(palabra)==5, lista))"
   ]
  },
  {
   "cell_type": "code",
   "execution_count": 12,
   "metadata": {},
   "outputs": [
    {
     "data": {
      "text/plain": [
       "['cabeza', 'codo', 'cuerty78']"
      ]
     },
     "execution_count": 12,
     "metadata": {},
     "output_type": "execute_result"
    }
   ],
   "source": [
    "#2\n",
    "list(filter(lambda palabra:palabra[0].upper()==\"C\", lista))"
   ]
  },
  {
   "cell_type": "code",
   "execution_count": 13,
   "metadata": {},
   "outputs": [
    {
     "data": {
      "text/plain": [
       "['Hola', 'perro', 'cabeza', 'codo', 'gan']"
      ]
     },
     "execution_count": 13,
     "metadata": {},
     "output_type": "execute_result"
    }
   ],
   "source": [
    "#3\n",
    "list(filter (lambda palabra:palabra.isalpha()==True, lista))"
   ]
  },
  {
   "cell_type": "markdown",
   "metadata": {},
   "source": [
    "## Suban este notebook resuelto al drive con la nomenclatura nombre_apellido_TP_3"
   ]
  }
 ],
 "metadata": {
  "kernelspec": {
   "display_name": "Python 3",
   "language": "python",
   "name": "python3"
  },
  "language_info": {
   "codemirror_mode": {
    "name": "ipython",
    "version": 3
   },
   "file_extension": ".py",
   "mimetype": "text/x-python",
   "name": "python",
   "nbconvert_exporter": "python",
   "pygments_lexer": "ipython3",
   "version": "3.8.3"
  }
 },
 "nbformat": 4,
 "nbformat_minor": 4
}
