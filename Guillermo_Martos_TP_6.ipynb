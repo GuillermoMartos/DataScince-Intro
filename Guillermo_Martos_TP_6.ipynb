{
 "cells": [
  {
   "cell_type": "markdown",
   "metadata": {},
   "source": [
    "# Ejercicios sobre lo aprendido"
   ]
  },
  {
   "cell_type": "markdown",
   "metadata": {},
   "source": [
    "## Suban este notebook resuelto al drive con la nomenclatura nombre_apellido_TP_6"
   ]
  },
  {
   "cell_type": "markdown",
   "metadata": {},
   "source": [
    "----"
   ]
  },
  {
   "cell_type": "markdown",
   "metadata": {},
   "source": [
    "### Usemos lo aprendido\n",
    "\n",
    "Elijan un .csv con datos que les sean de interes, pueden buscarlo en alguna de las paginas compartidas al final del notebook `05-Cargamos_dataframes` o puede ser de otro lado, queda en ustedes.\n",
    "\n",
    "Cargar el archivo en un dataframe y hacer los siguientes analisis, mostrando de manera ordenada lo encontrado.\n",
    "\n",
    "1. Existen valores nulos en nuestro conjunto de datos? Los reemplazamos, eliminamos o que hacemos con ellos?\n",
    "2. Hay valores duplicados? Puede haber duplicados? Tenemos que tratarlos?\n",
    "3. Elijamos una columna para analizar la cantidad de valores unicos que tiene, y cuales son.\n",
    "4. Hagan los analisis que ustedes quieran !!"
   ]
  },
  {
   "cell_type": "markdown",
   "metadata": {},
   "source": [
    "Vamos a tomar un dataset sobre música en Spotify, tomado de https://www.kaggle.com/yamaerenay/spotify-dataset-19212020-160k-tracks/download. El análisis lo vamos a hacer, mor de la brevedad del tiempo para este ensayo de análisis, como si esta fuera la muestra que toma el universo completo de la música. Sin importar si esta define o no un género de sonidos específico, o sea sin considerarla teóricamente en lo que define al tiempo que transcurre donde se produce el fenómeno \"musical\". De esta información vamos a tomar 3 cortes cada 10 años y presuponer que muestran, además, tendencias que estadísiticamente se verifican por la muestra y análisis que realizamos sobre ella. Sobre la marcha del análisis de datos vamos a ir dando las pautas de lo verificado a partir de lo que se vaya indicando."
   ]
  },
  {
   "cell_type": "code",
   "execution_count": 1,
   "metadata": {},
   "outputs": [
    {
     "name": "stdout",
     "output_type": "stream",
     "text": [
      "<class 'pandas.core.frame.DataFrame'>\n",
      "RangeIndex: 169909 entries, 0 to 169908\n",
      "Data columns (total 19 columns):\n",
      " #   Column            Non-Null Count   Dtype  \n",
      "---  ------            --------------   -----  \n",
      " 0   acousticness      169909 non-null  float64\n",
      " 1   artists           169909 non-null  object \n",
      " 2   danceability      169909 non-null  float64\n",
      " 3   duration_ms       169909 non-null  int64  \n",
      " 4   energy            169909 non-null  float64\n",
      " 5   explicit          169909 non-null  int64  \n",
      " 6   id                169909 non-null  object \n",
      " 7   instrumentalness  169909 non-null  float64\n",
      " 8   key               169909 non-null  int64  \n",
      " 9   liveness          169909 non-null  float64\n",
      " 10  loudness          169909 non-null  float64\n",
      " 11  mode              169909 non-null  int64  \n",
      " 12  name              169909 non-null  object \n",
      " 13  popularity        169909 non-null  int64  \n",
      " 14  release_date      169909 non-null  object \n",
      " 15  speechiness       169909 non-null  float64\n",
      " 16  tempo             169909 non-null  float64\n",
      " 17  valence           169909 non-null  float64\n",
      " 18  year              169909 non-null  int64  \n",
      "dtypes: float64(9), int64(6), object(4)\n",
      "memory usage: 22.0+ MB\n"
     ]
    }
   ],
   "source": [
    "#importamos los módulos y cargamos el dataset. Vemos en la info que no tiene objetos NaN. Y que contiene casi 170k filas.\n",
    "# Seguidamente vamos a inspeccionarlas y tomar algunas para realizar análisis de datos, siempre bajo la premisa antedicha.\n",
    "\n",
    "import pandas as pd\n",
    "import numpy as np\n",
    "data=pd.read_csv(\"data.csv\")\n",
    "data.info()\n",
    "\n"
   ]
  },
  {
   "cell_type": "code",
   "execution_count": 2,
   "metadata": {},
   "outputs": [],
   "source": [
    "#Observamos que no tenemos datos vacíos.\n",
    "#Eliminamos las columnas que no nos interesarán en nuestro análisis.\n",
    "\n",
    "data.drop([\"acousticness\", \"id\", \"instrumentalness\",\"liveness\",\"release_date\",\"valence\", \"mode\", \"speechiness\",\"energy\"], axis=1, inplace=True)\n"
   ]
  },
  {
   "cell_type": "code",
   "execution_count": 3,
   "metadata": {},
   "outputs": [],
   "source": [
    "#La columna \"key\" nos trae la nota en que se estructuran las canciones, vamos a cambiar los valores numéricos por las notas\n",
    "#en lenguaje natural, ya que nos resulta más sencillo leer y nos interesará chequear esa variable.\n",
    "#Vamos a traducir también nuestras columnas.\n",
    "data[\"key\"].replace({0:\"C\", 1:\"C#\", 2:\"D\", 3:\"D#\", 4:\"E\", 5:\"F\", 6:\"F#\", 7:\"G\", 8:\"G#\", 9:\"A\", 10:\"A#\", 11:\"B\"}, inplace=True)\n",
    "data=data.rename(columns={\"artists\":\"artistas\", \"danceability\":\"bailable\", \"duration_ms\":\"duración\",\"explicit\":\"explicito\", \"key\":\"tono\",\"loudness\":\"volumen\",\"name\":\"nombre\",\"popularity\":\"pop\", \"year\":\"año\"})"
   ]
  },
  {
   "cell_type": "code",
   "execution_count": 4,
   "metadata": {},
   "outputs": [],
   "source": [
    "#Nos interesa hacer tres cortes cada 10 años: 1980-1990-2000. Para tomarlos y hacer comparaciones que\n",
    "#ganen en algo a nuestra comprensión a partir de su contraste. Creamos dfs por cada corte para análisis.\n",
    "\n",
    "data_80=data[data[\"año\"]==1980]\n",
    "data_90=data[data[\"año\"]==1990]\n",
    "data_00=data[data[\"año\"]==2000]"
   ]
  },
  {
   "cell_type": "code",
   "execution_count": 5,
   "metadata": {},
   "outputs": [
    {
     "name": "stdout",
     "output_type": "stream",
     "text": [
      "2000\n",
      "2000\n",
      "2000\n"
     ]
    }
   ],
   "source": [
    "#chequeamos la cantidad de canciones por año. Tomando la muestra como el universo efectivo, vamos a suponer que representan\n",
    "#realmente y por tanto que cada año tiene exacta cantidad de canciones lanzadas en el mismo.\n",
    "\n",
    "print(data_80[\"tono\"].value_counts().sum())\n",
    "print(data_90[\"tono\"].value_counts().sum())\n",
    "print(data_00[\"tono\"].value_counts().sum())"
   ]
  },
  {
   "cell_type": "code",
   "execution_count": 6,
   "metadata": {},
   "outputs": [
    {
     "name": "stdout",
     "output_type": "stream",
     "text": [
      "la cantidad de canciones tomadas como explícitas por Spoty por año es:\n",
      "1980: 13\n",
      "1990: 91\n",
      "2000: 316\n"
     ]
    }
   ],
   "source": [
    "ex80=data_80[\"explicito\"].sum()\n",
    "y80=data_80[\"año\"].unique()\n",
    "ex90=data_90[\"explicito\"].sum()\n",
    "y90=data_90[\"año\"].unique()\n",
    "ex00=data_00[\"explicito\"].sum()\n",
    "y00=data_00[\"año\"].unique()\n",
    "print(f\"la cantidad de canciones tomadas como explícitas por Spoty por año es:\\n1980: {ex80}\\n1990: {ex90}\\n2000: {ex00}\")\n",
    "#al observar un crecimiento lineal, vamos a chequear si este se sostiene en toda la muestra..."
   ]
  },
  {
   "cell_type": "code",
   "execution_count": 7,
   "metadata": {},
   "outputs": [
    {
     "data": {
      "text/plain": [
       "Text(0.5, 1.0, 'proyección explícitas')"
      ]
     },
     "execution_count": 7,
     "metadata": {},
     "output_type": "execute_result"
    },
    {
     "data": {
      "image/png": "[encoded data removed]",
      "text/plain": [
       "<Figure size 432x288 with 1 Axes>"
      ]
     },
     "metadata": {
      "needs_background": "light"
     },
     "output_type": "display_data"
    }
   ],
   "source": [
    "#creamos un gráfico para mostrar los datos que analizamos\n",
    "import matplotlib.pyplot as plt\n",
    "añis=np.array(data.loc[data[\"explicito\"]==1,\"año\"].value_counts().index.tolist()).reshape(74,1)\n",
    "explis=np.array(data.loc[data[\"explicito\"]==1,\"año\"].value_counts().tolist()).reshape(74,1)\n",
    "plt.plot(explis,añis, marker=\"X\")\n",
    "plt.xlabel(\"explícitas\")\n",
    "plt.ylabel(\"año\")\n",
    "plt.title(\"proyección explícitas\")"
   ]
  },
  {
   "cell_type": "code",
   "execution_count": 8,
   "metadata": {
    "scrolled": true
   },
   "outputs": [
    {
     "name": "stdout",
     "output_type": "stream",
     "text": [
      "EXPLICITAS \n",
      "predicción 2021: 394\n",
      "2018    936\n",
      "2020    865\n",
      "2019    848\n",
      "Name: año, dtype: int64\n"
     ]
    }
   ],
   "source": [
    "#creamos un modelo de predicción con regresión lineal... nos daremos cuenta que overfiteamos nuestro modelo de aprendizaje\n",
    "#ya que es una regresión simple, y al haber un salto cuantitativos de los data sets, toma muchos valores 0 y eso distorsiona de\n",
    "#más el cálculo de la regresión lineal simple que hicimos. Si probamos en un modelo sólo con los data sets que tomamos original_\n",
    "#mente, la predicción es más acertada. Esto lo comprobamos al correr el año 20' y el 21' en la anteúltima línea del sig. código:\n",
    "\n",
    "from sklearn import linear_model\n",
    "regr=linear_model.LinearRegression()\n",
    "regr.fit(añis,explis)\n",
    "y_pred = regr.predict(añis)\n",
    "y_veintiuno = regr.predict([[2021]])\n",
    "print(f\"EXPLICITAS \\npredicción 2021: {int(y_veintiuno)}\")\n",
    "print(data.loc[data[\"explicito\"]==1, \"año\"].value_counts().head(3))"
   ]
  },
  {
   "cell_type": "code",
   "execution_count": 9,
   "metadata": {},
   "outputs": [
    {
     "name": "stdout",
     "output_type": "stream",
     "text": [
      "EXPLICITAS \n",
      "predicción 2021: 618\n",
      "2018    936\n",
      "2020    865\n",
      "2019    848\n",
      "Name: año, dtype: int64\n"
     ]
    }
   ],
   "source": [
    "#fijémonos que predecimos mejor el 21' presumiblemente ya que el 20' del cual sí tenemos data, nos arroja más cercano... al \n",
    "#correrlo vemos que sigue siendo muy mal predictor el que construimos. De nuevo, explorando en la muestra, hay saltos cuantitati_\n",
    "#vos muy importantes desde el 2015 y desde el 2000, por lo tanto, con nuestro modelo de regresión simple, y los datos que tomamos\n",
    "#para entrenarlo, resulta insuficiente para construir un predictor eficaz de proyección de canciones explícitas. Este trabajo de\n",
    "#entrenamiento y construcción del predictor nos costó tanto que elegimos dejarlo sólo como aprendizaje de por qué salió mal.\n",
    "#Bueno sería para un trabajo final, poder construir uno acertado y relevante para algun proyectito más útil.\n",
    "\n",
    "expl80=data_80[data_80[\"explicito\"]==1][\"explicito\"].sum()\n",
    "expl90=data_90[data_90[\"explicito\"]==1][\"explicito\"].sum()\n",
    "expl00=data_00[data_00[\"explicito\"]==1][\"explicito\"].sum()\n",
    "expl15=data[data[\"año\"]==2015][\"explicito\"].sum()\n",
    "arr_exp=np.array([expl80,expl90,expl00,expl15]).reshape(4,1)\n",
    "arr_año=np.array([1980,1990,2000,2015]).reshape(4,1)\n",
    "regr_dos=linear_model.LinearRegression()\n",
    "regr_dos.fit(arr_año,arr_exp)\n",
    "exp_pred= regr_dos.predict(arr_año)\n",
    "pred_veintiuno = regr_dos.predict([[2021]])\n",
    "print(f\"EXPLICITAS \\npredicción 2021: {int(pred_veintiuno)}\")\n",
    "print(data.loc[data[\"explicito\"]==1, \"año\"].value_counts().head(3))"
   ]
  },
  {
   "cell_type": "code",
   "execution_count": 10,
   "metadata": {},
   "outputs": [
    {
     "name": "stdout",
     "output_type": "stream",
     "text": [
      "C    294\n",
      "A    282\n",
      "Name: tono, dtype: int64\n",
      "G    282\n",
      "A    235\n",
      "Name: tono, dtype: int64\n",
      "G    258\n",
      "C    238\n",
      "Name: tono, dtype: int64\n"
     ]
    }
   ],
   "source": [
    "#seguimos explorando la muestra, esta vez por el tono mayormente utilizado en nuestras 3 muestras del 80 al 00. Vemos que las\n",
    "#tonalidades Sol, La y Do son las predominantes. Concluimos simplemente en ello.\n",
    "\n",
    "print(data_80[\"tono\"].value_counts().nlargest(2))\n",
    "print(data_90[\"tono\"].value_counts().nlargest(2))\n",
    "print(data_00[\"tono\"].value_counts().nlargest(2))\n"
   ]
  },
  {
   "cell_type": "code",
   "execution_count": 11,
   "metadata": {},
   "outputs": [
    {
     "data": {
      "text/html": [
       "<div>\n",
       "<style scoped>\n",
       "    .dataframe tbody tr th:only-of-type {\n",
       "        vertical-align: middle;\n",
       "    }\n",
       "\n",
       "    .dataframe tbody tr th {\n",
       "        vertical-align: top;\n",
       "    }\n",
       "\n",
       "    .dataframe thead th {\n",
       "        text-align: right;\n",
       "    }\n",
       "</style>\n",
       "<table border=\"1\" class=\"dataframe\">\n",
       "  <thead>\n",
       "    <tr style=\"text-align: right;\">\n",
       "      <th></th>\n",
       "      <th>1980</th>\n",
       "      <th>1990</th>\n",
       "      <th>2000</th>\n",
       "    </tr>\n",
       "  </thead>\n",
       "  <tbody>\n",
       "    <tr>\n",
       "      <th>bailable</th>\n",
       "      <td>1115.677</td>\n",
       "      <td>1090.3707</td>\n",
       "      <td>1178.0788</td>\n",
       "    </tr>\n",
       "  </tbody>\n",
       "</table>\n",
       "</div>"
      ],
      "text/plain": [
       "              1980       1990       2000\n",
       "bailable  1115.677  1090.3707  1178.0788"
      ]
     },
     "execution_count": 11,
     "metadata": {},
     "output_type": "execute_result"
    }
   ],
   "source": [
    "#chequeamos bailabilidad, lo hacemos sumando el valor total de las canciones de cada año para este ítem, encontramos que hay una\n",
    "#reducción del valor bailable en los 90'.\n",
    "\n",
    "bailables= {\"1980\":data_80[\"bailable\"].sum(), \"1990\":data_90[\"bailable\"].sum(), \"2000\":data_00[\"bailable\"].sum()}\n",
    "pd.Series(bailables)\n",
    "baile=pd.DataFrame(bailables,[\"bailable\"])\n",
    "baile"
   ]
  },
  {
   "cell_type": "raw",
   "metadata": {},
   "source": [
    "Damos por finalizado el análisis sin conclusiones mayores que las que observamos en cada apartado señalado. Podremos hacer otros análisis más enriquecedores en un futuro tomando otros aspectos y cruzando datos con otro interés, pero por el momento, nos ha servido para manipular datos de las tablas y cruzarlos un poco para establecer conclusiones siempre con las premisas que tomamos de inicio: de que la muestra muestra el universo y nuestras afirmaciones salvo la de sustento estadísitco fueron todas absolutas y certeras."
   ]
  },
  {
   "cell_type": "markdown",
   "metadata": {},
   "source": [
    "## Suban este notebook resuelto al drive con la nomenclatura nombre_apellido_TP_6"
   ]
  }
 ],
 "metadata": {
  "kernelspec": {
   "display_name": "Python 3",
   "language": "python",
   "name": "python3"
  },
  "language_info": {
   "codemirror_mode": {
    "name": "ipython",
    "version": 3
   },
   "file_extension": ".py",
   "mimetype": "text/x-python",
   "name": "python",
   "nbconvert_exporter": "python",
   "pygments_lexer": "ipython3",
   "version": "3.8.3"
  }
 },
 "nbformat": 4,
 "nbformat_minor": 4
}
